{
 "cells": [
  {
   "cell_type": "code",
   "execution_count": 138,
   "metadata": {},
   "outputs": [],
   "source": [
    "import os\n",
    "import pandas as pd"
   ]
  },
  {
   "cell_type": "code",
   "execution_count": 139,
   "metadata": {},
   "outputs": [],
   "source": [
    "def extract(df, pos, cols, addts):\n",
    "    df = df.iloc[[pos]][cols]\n",
    "    for key, val in addts.items():\n",
    "        df[key] = [val]\n",
    "    return df"
   ]
  },
  {
   "cell_type": "code",
   "execution_count": 140,
   "metadata": {},
   "outputs": [],
   "source": [
    "def get_files_dfs(rootdir, csv_name, columns):\n",
    "    dfs = []\n",
    "    _, dirs, _ = next(os.walk(rootdir))\n",
    "    for dir in dirs:\n",
    "        loopdir = \"{}/{}\".format(rootdir, dir)\n",
    "        _, programs, _ = next(os.walk(loopdir))\n",
    "        for program in programs:\n",
    "            filename = program.split(\".c\")[0] + \".c\"\n",
    "            program_dir = \"{}/{}\".format(loopdir, program)\n",
    "            _, _, files = next(os.walk(program_dir))\n",
    "            for file in files:\n",
    "                if csv_name in file:\n",
    "                    file_dir = \"{}/{}\".format(program_dir, file)\n",
    "                    file_df = pd.read_csv(file_dir)\n",
    "                    try:\n",
    "                        dfs.append(extract(file_df, 5, columns, {'Loops': dir}))\n",
    "                    except:\n",
    "                        dfs.append(extract(file_df, 0, columns, {'Loops': dir}))\n",
    "                    break\n",
    "    return dfs"
   ]
  },
  {
   "cell_type": "code",
   "execution_count": 141,
   "metadata": {},
   "outputs": [],
   "source": [
    "columns = ['Unnamed: 0', 'Inputfiles', 'AnalysisResult', 'Runtime (ns)', 'Peak memory consumption (bytes)']\n",
    "df = pd.concat(get_files_dfs(\"test\", \"Csv-Benchmark\", columns))"
   ]
  }
 ],
 "metadata": {
  "kernelspec": {
   "display_name": "Python 3.7.4 64-bit ('base': conda)",
   "language": "python",
   "name": "python37464bitbaseconda7a766840c7214d1c9bf80f2c97669202"
  },
  "language_info": {
   "codemirror_mode": {
    "name": "ipython",
    "version": 3
   },
   "file_extension": ".py",
   "mimetype": "text/x-python",
   "name": "python",
   "nbconvert_exporter": "python",
   "pygments_lexer": "ipython3",
   "version": "3.7.4"
  }
 },
 "nbformat": 4,
 "nbformat_minor": 2
}
