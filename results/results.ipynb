{
 "cells": [
  {
   "cell_type": "code",
   "execution_count": 2,
   "metadata": {},
   "outputs": [],
   "source": [
    "import os\n",
    "import pandas as pd"
   ]
  },
  {
   "cell_type": "code",
   "execution_count": 3,
   "metadata": {},
   "outputs": [],
   "source": [
    "def extract(df, pos, cols, addts):\n",
    "    df = df.iloc[[pos]][cols]\n",
    "    for key, val in addts.items():\n",
    "        df[key] = [val]\n",
    "    return df"
   ]
  },
  {
   "cell_type": "code",
   "execution_count": 4,
   "metadata": {},
   "outputs": [],
   "source": [
    "def get_files_dfs(rootdir, csv_name, columns):\n",
    "    dfs = []\n",
    "    _, dirs, _ = next(os.walk(rootdir))\n",
    "    for dir in dirs:\n",
    "        loopdir = \"{}/{}\".format(rootdir, dir)\n",
    "        _, programs, _ = next(os.walk(loopdir))\n",
    "        for program in programs:\n",
    "            filename = program.split(\".c\")[0] + \".c\"\n",
    "            program_dir = \"{}/{}\".format(loopdir, program)\n",
    "            _, _, files = next(os.walk(program_dir))\n",
    "            for file in files:\n",
    "                if csv_name in file:\n",
    "                    file_dir = \"{}/{}\".format(program_dir, file)\n",
    "                    file_df = pd.read_csv(file_dir)\n",
    "                    try:\n",
    "                        dfs.append(extract(file_df, 5, columns, {'Loops': dir}))\n",
    "                    except:\n",
    "                        dfs.append(extract(file_df, 0, columns, {'Loops': dir}))\n",
    "                    break\n",
    "    return dfs"
   ]
  },
  {
   "cell_type": "code",
   "execution_count": 5,
   "metadata": {},
   "outputs": [],
   "source": [
    "columns = ['Unnamed: 0', 'Inputfiles', 'AnalysisResult', 'Runtime (ns)', 'Peak memory consumption (bytes)']\n",
    "df = pd.concat(get_files_dfs(\"530k-seed\", \"Csv-Benchmark\", columns))"
   ]
  },
  {
   "cell_type": "code",
   "execution_count": 6,
   "metadata": {},
   "outputs": [
    {
     "output_type": "execute_result",
     "data": {
      "text/plain": "AnalysisResult  CORRECT  ERROR  INCORRECT  NORESULT  SYNTAXERROR  TIMEOUT  \\\nLoops                                                                       \n0                 58676    118         17      2904           12      414   \n1                  4211    128        528       143           12     2014   \n2                   107     26         35        19            2      587   \n3                     1      2          0         1            0      107   \n4                     0      0          2         0            0       20   \n5                     0      0          0         0            0        3   \n6                     0      0          0         0            0        2   \n\nAnalysisResult  UNPROVABLE  \nLoops                       \n0                        5  \n1                      195  \n2                       16  \n3                        1  \n4                        0  \n5                        0  \n6                        0  ",
      "text/html": "<div>\n<style scoped>\n    .dataframe tbody tr th:only-of-type {\n        vertical-align: middle;\n    }\n\n    .dataframe tbody tr th {\n        vertical-align: top;\n    }\n\n    .dataframe thead th {\n        text-align: right;\n    }\n</style>\n<table border=\"1\" class=\"dataframe\">\n  <thead>\n    <tr style=\"text-align: right;\">\n      <th>AnalysisResult</th>\n      <th>CORRECT</th>\n      <th>ERROR</th>\n      <th>INCORRECT</th>\n      <th>NORESULT</th>\n      <th>SYNTAXERROR</th>\n      <th>TIMEOUT</th>\n      <th>UNPROVABLE</th>\n    </tr>\n    <tr>\n      <th>Loops</th>\n      <th></th>\n      <th></th>\n      <th></th>\n      <th></th>\n      <th></th>\n      <th></th>\n      <th></th>\n    </tr>\n  </thead>\n  <tbody>\n    <tr>\n      <td>0</td>\n      <td>58676</td>\n      <td>118</td>\n      <td>17</td>\n      <td>2904</td>\n      <td>12</td>\n      <td>414</td>\n      <td>5</td>\n    </tr>\n    <tr>\n      <td>1</td>\n      <td>4211</td>\n      <td>128</td>\n      <td>528</td>\n      <td>143</td>\n      <td>12</td>\n      <td>2014</td>\n      <td>195</td>\n    </tr>\n    <tr>\n      <td>2</td>\n      <td>107</td>\n      <td>26</td>\n      <td>35</td>\n      <td>19</td>\n      <td>2</td>\n      <td>587</td>\n      <td>16</td>\n    </tr>\n    <tr>\n      <td>3</td>\n      <td>1</td>\n      <td>2</td>\n      <td>0</td>\n      <td>1</td>\n      <td>0</td>\n      <td>107</td>\n      <td>1</td>\n    </tr>\n    <tr>\n      <td>4</td>\n      <td>0</td>\n      <td>0</td>\n      <td>2</td>\n      <td>0</td>\n      <td>0</td>\n      <td>20</td>\n      <td>0</td>\n    </tr>\n    <tr>\n      <td>5</td>\n      <td>0</td>\n      <td>0</td>\n      <td>0</td>\n      <td>0</td>\n      <td>0</td>\n      <td>3</td>\n      <td>0</td>\n    </tr>\n    <tr>\n      <td>6</td>\n      <td>0</td>\n      <td>0</td>\n      <td>0</td>\n      <td>0</td>\n      <td>0</td>\n      <td>2</td>\n      <td>0</td>\n    </tr>\n  </tbody>\n</table>\n</div>"
     },
     "metadata": {},
     "execution_count": 6
    }
   ],
   "source": [
    "pd.crosstab(df['Loops'], df['AnalysisResult'].fillna(0))"
   ]
  }
 ],
 "metadata": {
  "kernelspec": {
   "display_name": "Python 3.7.4 64-bit ('base': conda)",
   "language": "python",
   "name": "python37464bitbaseconda7a766840c7214d1c9bf80f2c97669202"
  },
  "language_info": {
   "codemirror_mode": {
    "name": "ipython",
    "version": 3
   },
   "file_extension": ".py",
   "mimetype": "text/x-python",
   "name": "python",
   "nbconvert_exporter": "python",
   "pygments_lexer": "ipython3",
   "version": "3.7.4-final"
  }
 },
 "nbformat": 4,
 "nbformat_minor": 2
}