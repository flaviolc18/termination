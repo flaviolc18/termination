{
 "cells": [
  {
   "cell_type": "code",
   "execution_count": 81,
   "metadata": {},
   "outputs": [],
   "source": [
    "import os\n",
    "import pandas as pd"
   ]
  },
  {
   "cell_type": "code",
   "execution_count": 143,
   "metadata": {},
   "outputs": [],
   "source": [
    "def extract(df, pos, cols):\n",
    "    return df.iloc[[pos]][cols]"
   ]
  },
  {
   "cell_type": "code",
   "execution_count": 148,
   "metadata": {},
   "outputs": [],
   "source": [
    "def get_files_dfs(rootdir, csv_name, columns):\n",
    "    dfs = []\n",
    "    _, dirs, _ = next(os.walk(rootdir))\n",
    "    for dir in dirs:\n",
    "        loopdir = \"{}/{}\".format(rootdir, dir)\n",
    "        _, programs, _ = next(os.walk(loopdir))\n",
    "        for program in programs:\n",
    "            filename = program.split(\".c\")[0] + \".c\"\n",
    "            program_dir = \"{}/{}\".format(loopdir, program)\n",
    "            _, _, files = next(os.walk(program_dir))\n",
    "            for file in files:\n",
    "                if csv_name in file:\n",
    "                    file_dir = \"{}/{}\".format(program_dir, file)\n",
    "                    file_df = pd.read_csv(file_dir)\n",
    "                    try:\n",
    "                        dfs.append(extract(file_df, 5, columns))\n",
    "                    except:\n",
    "                        dfs.append(extract(file_df, 0, columns))\n",
    "                    break\n",
    "    return dfs"
   ]
  },
  {
   "cell_type": "code",
   "execution_count": 149,
   "metadata": {},
   "outputs": [
    {
     "data": {
      "text/html": "<div>\n<style scoped>\n    .dataframe tbody tr th:only-of-type {\n        vertical-align: middle;\n    }\n\n    .dataframe tbody tr th {\n        vertical-align: top;\n    }\n\n    .dataframe thead th {\n        text-align: right;\n    }\n</style>\n<table border=\"1\" class=\"dataframe\">\n  <thead>\n    <tr style=\"text-align: right;\">\n      <th></th>\n      <th>Unnamed: 0</th>\n      <th>Inputfiles</th>\n      <th>AnalysisResult</th>\n      <th>Runtime (ns)</th>\n      <th>Peak memory consumption (bytes)</th>\n    </tr>\n  </thead>\n  <tbody>\n    <tr>\n      <td>0</td>\n      <td>CDTParser</td>\n      <td>../results/test/1/invalid.c</td>\n      <td>NORESULT</td>\n      <td>1.768510e+05</td>\n      <td>0.0</td>\n    </tr>\n    <tr>\n      <td>5</td>\n      <td>BuchiAutomizer</td>\n      <td>../results/test/1/input-init-func-terminating.c</td>\n      <td>CORRECT</td>\n      <td>6.732844e+07</td>\n      <td>5029088.0</td>\n    </tr>\n    <tr>\n      <td>5</td>\n      <td>BuchiAutomizer</td>\n      <td>../results/test/1/input-init-func-nonterminati...</td>\n      <td>INCORRECT</td>\n      <td>1.969352e+08</td>\n      <td>13715816.0</td>\n    </tr>\n    <tr>\n      <td>5</td>\n      <td>BuchiAutomizer</td>\n      <td>../results/test/1/nonterminating.c</td>\n      <td>INCORRECT</td>\n      <td>2.516917e+08</td>\n      <td>26961952.0</td>\n    </tr>\n    <tr>\n      <td>5</td>\n      <td>BuchiAutomizer</td>\n      <td>../results/test/1/input-init-func-unable.c</td>\n      <td>CORRECT</td>\n      <td>1.127868e+09</td>\n      <td>26741840.0</td>\n    </tr>\n    <tr>\n      <td>5</td>\n      <td>BuchiAutomizer</td>\n      <td>../results/test/1/terminating.c</td>\n      <td>CORRECT</td>\n      <td>9.789751e+08</td>\n      <td>24624168.0</td>\n    </tr>\n    <tr>\n      <td>5</td>\n      <td>BuchiAutomizer</td>\n      <td>../results/test/1/unable.c</td>\n      <td>UNPROVABLE</td>\n      <td>3.468481e+09</td>\n      <td>233355152.0</td>\n    </tr>\n    <tr>\n      <td>5</td>\n      <td>BuchiAutomizer</td>\n      <td>../results/test/2/input2.c</td>\n      <td>TIMEOUT</td>\n      <td>3.748357e+09</td>\n      <td>69933264.0</td>\n    </tr>\n    <tr>\n      <td>5</td>\n      <td>BuchiAutomizer</td>\n      <td>../results/test/0/input0.c</td>\n      <td>CORRECT</td>\n      <td>7.110758e+07</td>\n      <td>6754064.0</td>\n    </tr>\n    <tr>\n      <td>5</td>\n      <td>BuchiAutomizer</td>\n      <td>../results/test/3/input3.c</td>\n      <td>TIMEOUT</td>\n      <td>4.109461e+09</td>\n      <td>124928696.0</td>\n    </tr>\n    <tr>\n      <td>5</td>\n      <td>BuchiAutomizer</td>\n      <td>../results/test/3/nonterminating3.c</td>\n      <td>INCORRECT</td>\n      <td>2.827891e+09</td>\n      <td>201728120.0</td>\n    </tr>\n    <tr>\n      <td>5</td>\n      <td>BuchiAutomizer</td>\n      <td>../results/test/3/input3.2.c</td>\n      <td>TIMEOUT</td>\n      <td>4.098840e+09</td>\n      <td>95413128.0</td>\n    </tr>\n  </tbody>\n</table>\n</div>",
      "text/plain": "       Unnamed: 0                                         Inputfiles  \\\n0       CDTParser                        ../results/test/1/invalid.c   \n5  BuchiAutomizer    ../results/test/1/input-init-func-terminating.c   \n5  BuchiAutomizer  ../results/test/1/input-init-func-nonterminati...   \n5  BuchiAutomizer                 ../results/test/1/nonterminating.c   \n5  BuchiAutomizer         ../results/test/1/input-init-func-unable.c   \n5  BuchiAutomizer                    ../results/test/1/terminating.c   \n5  BuchiAutomizer                         ../results/test/1/unable.c   \n5  BuchiAutomizer                         ../results/test/2/input2.c   \n5  BuchiAutomizer                         ../results/test/0/input0.c   \n5  BuchiAutomizer                         ../results/test/3/input3.c   \n5  BuchiAutomizer                ../results/test/3/nonterminating3.c   \n5  BuchiAutomizer                       ../results/test/3/input3.2.c   \n\n  AnalysisResult  Runtime (ns)  Peak memory consumption (bytes)  \n0       NORESULT  1.768510e+05                              0.0  \n5        CORRECT  6.732844e+07                        5029088.0  \n5      INCORRECT  1.969352e+08                       13715816.0  \n5      INCORRECT  2.516917e+08                       26961952.0  \n5        CORRECT  1.127868e+09                       26741840.0  \n5        CORRECT  9.789751e+08                       24624168.0  \n5     UNPROVABLE  3.468481e+09                      233355152.0  \n5        TIMEOUT  3.748357e+09                       69933264.0  \n5        CORRECT  7.110758e+07                        6754064.0  \n5        TIMEOUT  4.109461e+09                      124928696.0  \n5      INCORRECT  2.827891e+09                      201728120.0  \n5        TIMEOUT  4.098840e+09                       95413128.0  "
     },
     "execution_count": 149,
     "metadata": {},
     "output_type": "execute_result"
    }
   ],
   "source": [
    "columns = ['Unnamed: 0', 'Inputfiles', 'AnalysisResult', 'Runtime (ns)', 'Peak memory consumption (bytes)']\n",
    "pd.concat(get_files_dfs(\"test\", \"Csv-Benchmark\", columns))"
   ]
  }
 ],
 "metadata": {
  "kernelspec": {
   "name": "python37464bitbaseconda7a766840c7214d1c9bf80f2c97669202",
   "display_name": "Python 3.7.4 64-bit ('base': conda)"
  }
 },
 "nbformat": 4,
 "nbformat_minor": 2
}